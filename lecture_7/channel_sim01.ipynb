{
 "cells": [
  {
   "cell_type": "code",
   "execution_count": null,
   "metadata": {},
   "outputs": [],
   "source": [
    "import random\n",
    "import string\n",
    "\n",
    "#Δημιουργία μηνύματος\n",
    "alphabet = ['A','B','C','D','E']\n",
    "random.seed(0)\n",
    "mes_in = ''.join(random.choices(alphabet, k=50))\n",
    "print(mes_in)\n",
    "print(len(mes_in))"
   ]
  },
  {
   "cell_type": "code",
   "execution_count": null,
   "metadata": {},
   "outputs": [],
   "source": [
    "def coding(mes,code):\n",
    "    coded_mes = []\n",
    "    for i in mes:\n",
    "        coded_mes.append(code[i])\n",
    "    return ''.join(coded_mes)"
   ]
  },
  {
   "cell_type": "code",
   "execution_count": null,
   "metadata": {},
   "outputs": [],
   "source": [
    "#Κωδικοποίηση μηνύματος\n",
    "code = {'A':'001','B':'010','C':'011','D':'100','E':'101'}\n",
    "mes_to_send = coding(mes_in,code)\n",
    "print(mes_to_send)\n",
    "print(len(mes_to_send))\n",
    "#αλφάβητο εισόδου-εξόδου\n",
    "x_al = ['0','1']"
   ]
  },
  {
   "cell_type": "code",
   "execution_count": null,
   "metadata": {},
   "outputs": [],
   "source": [
    "def com_coding01(mes,n):\n",
    "    coded_mes = []\n",
    "    for i in mes:\n",
    "        coded_mes.append(n*i)\n",
    "    return ''.join(coded_mes)"
   ]
  },
  {
   "cell_type": "code",
   "execution_count": null,
   "metadata": {},
   "outputs": [],
   "source": [
    "#Κωδικοποίηση καναλιού\n",
    "n = 9  #αριθμός επαναλήψεων του κάθε bit\n",
    "coded_mes_to_send = com_coding01(mes_to_send,n)\n",
    "print(coded_mes_to_send)\n",
    "print(len(coded_mes_to_send))"
   ]
  },
  {
   "cell_type": "code",
   "execution_count": null,
   "metadata": {},
   "outputs": [],
   "source": [
    "def channel01(in_s,alpha,p):\n",
    "    out_s = []\n",
    "    for i in in_s:\n",
    "        if random.random() < p:\n",
    "            out_s.append(alpha[(alpha.index(i)+1)%2])\n",
    "        else:\n",
    "            out_s.append(i)\n",
    "    return ''.join(out_s)"
   ]
  },
  {
   "cell_type": "code",
   "execution_count": null,
   "metadata": {},
   "outputs": [],
   "source": [
    "#Πέρασμα κωδικοποιημένου μηνύματος από το κανάλι\n",
    "#πιθανότητα σφάλματος\n",
    "p = 0.1\n",
    "received_uncoded_mes = channel01(coded_mes_to_send,x_al,p)\n",
    "print(received_uncoded_mes)"
   ]
  },
  {
   "cell_type": "code",
   "execution_count": null,
   "metadata": {},
   "outputs": [],
   "source": [
    "def com_decoding01(mes,n):\n",
    "    y = []\n",
    "    for i in range(0,len(mes),n):\n",
    "        s = mes[i:i+n]\n",
    "        if s.count('0') > n//2:\n",
    "            y.append('0')\n",
    "        else:\n",
    "            y.append('1')\n",
    "    return ''.join(y)"
   ]
  },
  {
   "cell_type": "code",
   "execution_count": null,
   "metadata": {},
   "outputs": [],
   "source": [
    "#Αποκωδικοποίηση επικοινωνίας\n",
    "received_mes = com_decoding01(received_uncoded_mes,n)\n",
    "print(received_mes)\n",
    "print(len(received_mes))"
   ]
  },
  {
   "cell_type": "code",
   "execution_count": null,
   "metadata": {},
   "outputs": [],
   "source": [
    "def decoding01(mes,code):\n",
    "    decoded = []\n",
    "    max_codeword = 0\n",
    "    for i in code.keys():\n",
    "        if max_codeword < len(code[i]):\n",
    "            max_codeword = len(code[i])\n",
    "    for i in range(0,len(mes),max_codeword):\n",
    "        letter = ''\n",
    "        for key, value in code.items():  \n",
    "            if value == mes[i:i+3]:\n",
    "                letter = key\n",
    "        if letter == '':\n",
    "            letter = '_'\n",
    "        decoded.append(letter)\n",
    "    return ''.join(decoded)  "
   ]
  },
  {
   "cell_type": "code",
   "execution_count": null,
   "metadata": {},
   "outputs": [],
   "source": [
    "#Τελική αποκωδικοποίηση μηνύματος\n",
    "r_message = decoding01(received_mes,code)\n",
    "print(r_message)\n",
    "print(len(r_message))"
   ]
  },
  {
   "cell_type": "code",
   "execution_count": null,
   "metadata": {},
   "outputs": [],
   "source": [
    "def hamming_distance(s1, s2):\n",
    "    return sum(c1 != c2 for c1, c2 in zip(s1, s2))"
   ]
  },
  {
   "cell_type": "code",
   "execution_count": null,
   "metadata": {},
   "outputs": [],
   "source": [
    "print('Διαφορά από κωδικοποιημένο μήνυμα: ',hamming_distance(mes_to_send,received_mes))\n",
    "print('Διαφορά από αρχικό μήνυμα: ',hamming_distance(mes_in,r_message))"
   ]
  },
  {
   "cell_type": "code",
   "execution_count": null,
   "metadata": {},
   "outputs": [],
   "source": [
    "import math\n",
    "\n",
    "c = 1 - (-p*math.log(p,2) - (1-p)*math.log((1-p),2))\n",
    "print('Ρυθμός για n = ',n,': R = ',math.log(5,2)/(n*3),' bits')\n",
    "print('Χωρητικότητα καναλιού  C = ',c)"
   ]
  }
 ],
 "metadata": {
  "kernelspec": {
   "display_name": "Python 3",
   "language": "python",
   "name": "python3"
  },
  "language_info": {
   "codemirror_mode": {
    "name": "ipython",
    "version": 3
   },
   "file_extension": ".py",
   "mimetype": "text/x-python",
   "name": "python",
   "nbconvert_exporter": "python",
   "pygments_lexer": "ipython3",
   "version": "3.7.4"
  }
 },
 "nbformat": 4,
 "nbformat_minor": 2
}
