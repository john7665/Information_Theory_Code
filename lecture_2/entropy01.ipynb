{
 "cells": [
  {
   "cell_type": "code",
   "execution_count": null,
   "metadata": {},
   "outputs": [],
   "source": [
    "import math\n",
    "\n",
    "with open('text01.txt','r') as f:\n",
    "    data = f.read()\n",
    "print(data)"
   ]
  },
  {
   "cell_type": "code",
   "execution_count": null,
   "metadata": {},
   "outputs": [],
   "source": [
   "def count_letters(data):"
    "letters = {('α', 'Α', 'ά', 'Ά'): 0, ('β', 'Β'): 0, ('γ', 'Γ'): 0, ('δ', 'Δ'): 0,('ε', 'έ', 'Ε', 'Έ'): 0, ('ζ', 'Ζ'): 0,"
               "('η', 'ή', 'Η', 'Ή'): 0, ('θ', 'Θ'): 0, ('ι', 'ί', 'Ι', 'Ί', 'ϊ', 'ΐ'): 0, ('κ', 'Κ'): 0, ('λ', 'Λ'): 0,"
               "('μ', 'Μ'): 0, ('ν', 'Ν'): 0, ('ξ', 'Ξ'): 0, ('ο', 'ό', 'Ο', 'Ό'): 0, ('π', 'Π'): 0, ('ρ', 'Ρ'): 0,"
               "('σ', 'Σ', 'ς'): 0, ('τ', 'Τ'): 0, ('υ', 'ύ', 'Υ', 'Ύ', 'ϋ', 'Ϋ', 'ΰ'): 0, ('φ', 'Φ'): 0, ('χ', 'Χ'): 0,"
               "('ψ', 'Ψ'): 0, ('ω', 'Ω', 'ώ', 'Ώ'): 0, ' ': 0}"
    "total = 0"
    "for i in data:"
        "for l in letters.keys():"
            "if i in l:"
                "total += 1"
                "letters[l] += 1"
    "return letters, total"
   ]
  },
  {
   "cell_type": "code",
   "execution_count": null,
   "metadata": {},
   "outputs": [],
   "source": [
    "letters,total = count_letters(data)\n",
    "print(letters)"
   ]
  },
  {
   "cell_type": "code",
   "execution_count": null,
   "metadata": {},
   "outputs": [],
   "source": [
    "def make_pdf(l,t):\n",
    "    pdf = {}\n",
    "    num_letters = 0\n",
    "    for l in letters.keys():\n",
    "        num_letters += 1\n",
    "        pdf[l] = letters[l]/t\n",
    "    return pdf,num_letters"
   ]
  },
  {
   "cell_type": "code",
   "execution_count": null,
   "metadata": {},
   "outputs": [],
   "source": [
    "pdf,number_letters = make_pdf(letters,total)\n",
    "print(pdf)"
   ]
  },
  {
   "cell_type": "code",
   "execution_count": null,
   "metadata": {},
   "outputs": [],
   "source": [
    "def h_equal(number):\n",
    "    return math.log(number,2)"
   ]
  },
  {
   "cell_type": "code",
   "execution_count": null,
   "metadata": {},
   "outputs": [],
   "source": [
    "def h_prob(pdf):\n",
    "    prob = 0\n",
    "    H = 0\n",
    "    for i in pdf.keys():\n",
    "        prob += pdf[i]\n",
    "        if pdf[i] > 0:\n",
    "            H += -pdf[i]*math.log(pdf[i],2)\n",
    "    return H,prob"
   ]
  },
  {
   "cell_type": "code",
   "execution_count": null,
   "metadata": {},
   "outputs": [],
   "source": [
    "print('Για ισοπίθανα γράμματα Η(Χ) = ',h_equal(number_letters))\n",
    "h,p = h_prob(pdf)\n",
    "print('Συνολική πιθανότητα = ',p)\n",
    "print('Με τη μετρημένη πιθανότητα κάθε γράμματος Η(Χ) = ',h)"
   ]
  },
  {
   "cell_type": "code",
   "execution_count": null,
   "metadata": {},
   "outputs": [],
   "source": []
  }
 ],
 "metadata": {
  "kernelspec": {
   "display_name": "Python 3",
   "language": "python",
   "name": "python3"
  },
  "language_info": {
   "codemirror_mode": {
    "name": "ipython",
    "version": 3
   },
   "file_extension": ".py",
   "mimetype": "text/x-python",
   "name": "python",
   "nbconvert_exporter": "python",
   "pygments_lexer": "ipython3",
   "version": "3.7.4"
  }
 },
 "nbformat": 4,
 "nbformat_minor": 2
}
